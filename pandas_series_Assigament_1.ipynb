{
  "nbformat": 4,
  "nbformat_minor": 0,
  "metadata": {
    "colab": {
      "private_outputs": true,
      "provenance": [],
      "authorship_tag": "ABX9TyOm7GlP8c+aYd6hW1HJ3Yji",
      "include_colab_link": true
    },
    "kernelspec": {
      "name": "python3",
      "display_name": "Python 3"
    },
    "language_info": {
      "name": "python"
    }
  },
  "cells": [
    {
      "cell_type": "markdown",
      "metadata": {
        "id": "view-in-github",
        "colab_type": "text"
      },
      "source": [
        "<a href=\"https://colab.research.google.com/github/meghabhopatkar/pandas-Assignment/blob/main/pandas_series_Assigament_1.ipynb\" target=\"_parent\"><img src=\"https://colab.research.google.com/assets/colab-badge.svg\" alt=\"Open In Colab\"/></a>"
      ]
    },
    {
      "cell_type": "markdown",
      "source": [
        "Write a python program which mask a Series based on\n",
        "conditions (condition: > 5) with the number n (input) and modify the\n",
        "masked values:"
      ],
      "metadata": {
        "id": "-kqoLgxlApZP"
      }
    },
    {
      "cell_type": "code",
      "execution_count": null,
      "metadata": {
        "id": "icG_rvq7Acx3"
      },
      "outputs": [],
      "source": [
        "import pandas as pd\n",
        "\n",
        "# Create a sample Series\n",
        "s = pd.Series([1, 7, 3, 9, 5, 2, 8, 4, 6])\n",
        "\n",
        "# Define the condition\n",
        "condition = s > 5\n",
        "\n",
        "# Define the number to replace with\n",
        "n = 99 # Hardcoded value instead of input()\n",
        "\n",
        "# Mask the Series and replace the values\n",
        "s[condition] = n\n",
        "\n",
        "# Display the modified Series\n",
        "print(\"Original Series:\")\n",
        "print(pd.Series([1, 7, 3, 9, 5, 2, 8, 4, 6]))\n",
        "print(\"\\nModified Series:\")\n",
        "print(s)"
      ]
    },
    {
      "cell_type": "markdown",
      "source": [
        "Identify missing values in a Series and replace them with the\n",
        "median"
      ],
      "metadata": {
        "id": "jdspqOCgDXJA"
      }
    },
    {
      "cell_type": "code",
      "source": [
        "import pandas as pd\n",
        "#Identify missing values in a Series\n",
        "missing_values =['([2, 5, NaN, 3, 9, NaN, 4])']\n",
        "replace =['median']==0,\n",
        "display=(missing_values)"
      ],
      "metadata": {
        "id": "ktsZUyaIDX-q"
      },
      "execution_count": null,
      "outputs": []
    },
    {
      "cell_type": "markdown",
      "source": [
        "Map values from another Series based on a condition"
      ],
      "metadata": {
        "id": "SD7semH_KeoI"
      }
    },
    {
      "cell_type": "code",
      "source": [
        "import pandas as pd\n",
        "#map value from another series based on a condition\n",
        "map_series =['another series']\n",
        "map_series = [\"Series([10, 20, 30, 40]), mapping: {10: 'A', 30: 'B'}\"]\n",
        "display=(map_series)"
      ],
      "metadata": {
        "id": "x6PB0UV9KfU8"
      },
      "execution_count": null,
      "outputs": []
    },
    {
      "cell_type": "markdown",
      "source": [
        "Calculate cumulative product of values, ignoring zeroes"
      ],
      "metadata": {
        "id": "G8VU9yA3SJdP"
      }
    },
    {
      "cell_type": "code",
      "source": [
        "import pandas as pd\n",
        "#Calculate the cumulative product of values, ignoring zeroes\n",
        "s = pd.Series([1, 2, 0, 4, 5])\n",
        "\n",
        "# Get the indices of non-zero elements\n",
        "non_zero_indices = s[s != 0].index\n",
        "\n",
        "# Calculate cumulative product only on non-zero elements\n",
        "cumulative_product_non_zeros = s[non_zero_indices].cumprod()\n",
        "\n",
        "# Create a new Series with cumulative product, filling in zeros' positions\n",
        "cumulative_product = pd.Series(index=s.index, dtype=float)\n",
        "cumulative_product[non_zero_indices] = cumulative_product_non_zeros\n",
        "\n",
        "# Forward fill the values to include the cumulative product up to the zero positions\n",
        "cumulative_product = cumulative_product.ffill().fillna(1) # fillna(1) for cases where the first element is 0\n",
        "\n",
        "\n",
        "# Display the original and the resulting Series\n",
        "print(\"Original Series:\")\n",
        "print(s)\n",
        "print(\"\\nCumulative Product (ignoring zeroes):\")\n",
        "display(cumulative_product)"
      ],
      "metadata": {
        "id": "esDXW4arSKGJ"
      },
      "execution_count": null,
      "outputs": []
    },
    {
      "cell_type": "markdown",
      "source": [
        "Write a python program which Shift elements of a Series and fill\n",
        "shifted positions with custom values:"
      ],
      "metadata": {
        "id": "O-aPoi3uqnkd"
      }
    },
    {
      "cell_type": "code",
      "source": [
        "import pandas as pd\n",
        "\n",
        "# Create a sample Series\n",
        "s = pd.Series([10, 20, 30, 40])\n",
        "\n",
        "# Define the shift amount and the fill value\n",
        "shift_amount = 2\n",
        "fill_value = -1\n",
        "\n",
        "# Shift the Series and fill the new positions with the custom value\n",
        "shifted_s = s.shift(shift_amount, fill_value=fill_value)\n",
        "\n",
        "# Display the original and shifted Series\n",
        "print(\"Original Series:\")\n",
        "print(s)\n",
        "print(\"\\nShifted Series:\")\n",
        "print(shifted_s)"
      ],
      "metadata": {
        "id": "pxb0OcXwrL5u"
      },
      "execution_count": null,
      "outputs": []
    },
    {
      "cell_type": "markdown",
      "source": [
        "Generate random numbers in a Series and count how many are greater than the standard deviation: Test case 1: Input: Series([1.2, 2.5, 3.6, 4.1, 5.9]) Output: 2"
      ],
      "metadata": {
        "id": "aUdC9CfOsdpC"
      }
    },
    {
      "cell_type": "code",
      "source": [
        "import pandas as pd\n",
        "import numpy as np\n",
        "\n",
        "# Generate random numbers in a Series\n",
        "np.random.seed(42) # for reproducibility\n",
        "random_series = pd.Series(np.random.rand(10) * 10) # Generate 10 random numbers between 0 and 10\n",
        "\n",
        "# Calculate the standard deviation\n",
        "std_dev = random_series.std()\n",
        "\n",
        "# Count numbers greater than the standard deviation\n",
        "count_greater_than_std = (random_series > std_dev).sum()\n",
        "\n",
        "print(\"Random Series:\")\n",
        "print(random_series)\n",
        "print(f\"\\nStandard Deviation: {std_dev:.2f}\")\n",
        "print(f\"Count of numbers greater than standard deviation: {count_greater_than_std}\")\n",
        "\n",
        "# Test case 1: Input: Series([1.2, 2.5, 3.6, 4.1, 5.9]) Output: 2\n",
        "test_series = pd.Series([1.2, 2.5, 3.6, 4.1, 5.9])\n",
        "test_std_dev = test_series.std()\n",
        "test_count = (test_series > test_std_dev).sum()\n",
        "print(\"\\nTest Case 1:\")\n",
        "print(f\"Input Series: {list(test_series)}\")\n",
        "print(f\"Standard Deviation of Test Series: {test_std_dev:.2f}\")\n",
        "print(f\"Output: {test_count}\")"
      ],
      "metadata": {
        "id": "4DaSpg2AsYf5"
      },
      "execution_count": null,
      "outputs": []
    },
    {
      "cell_type": "markdown",
      "source": [
        " Convert negative values in a Series to absolute values:\n",
        "Test case 1:\n",
        "Input: Series([-10, 5, -3, 2, -7])\n",
        "Output: Series([10, 5, 3, 2, 7])"
      ],
      "metadata": {
        "id": "9bsdV5ITsmEE"
      }
    },
    {
      "cell_type": "code",
      "source": [
        "import pandas as pd\n",
        "\n",
        "# Create a Series with negative values\n",
        "convert_series = pd.Series([-10, 5, -3, 2, -7])\n",
        "\n",
        "# Convert negative values to absolute values\n",
        "absolute_series = convert_series.abs()\n",
        "\n",
        "# Display the original and converted Series\n",
        "print(\"Original Series:\")\n",
        "print(convert_series)\n",
        "print(\"\\nSeries with absolute values:\")\n",
        "display(absolute_series)\n",
        "\n",
        "# Test case 1:\n",
        "# Input: Series([-10, 5, -3, 2, -7])\n",
        "# Output: Series([10, 5, 3, 2, 7])\n",
        "test_series = pd.Series([-10, 5, -3, 2, -7])\n",
        "test_absolute_series = test_series.abs()\n",
        "\n",
        "print(\"\\nTest Case 1:\")\n",
        "print(f\"Input Series: {list(test_series)}\")\n",
        "print(f\"Output Series: {list(test_absolute_series)}\")"
      ],
      "metadata": {
        "id": "IaCOQ_flsm2D"
      },
      "execution_count": null,
      "outputs": []
    },
    {
      "cell_type": "markdown",
      "source": [
        "Find positions of prime numbers in a Series and return the count:\n",
        "Test case 1:\n",
        "Input: Series([10, 7, 3, 15, 17])\n",
        "Output: 3"
      ],
      "metadata": {
        "id": "YPlRKJ4XtqUb"
      }
    },
    {
      "cell_type": "code",
      "source": [
        "import pandas as pd\n",
        "\n",
        "def is_prime(n):\n",
        "    \"\"\"Checks if a number is prime.\"\"\"\n",
        "    if n < 2:\n",
        "        return False\n",
        "    for i in range(2, int(n**0.5) + 1):\n",
        "        if n % i == 0:\n",
        "            return False\n",
        "    return True\n",
        "\n",
        "# Test case 1:\n",
        "# Input: Series([10, 7, 3, 15, 17])\n",
        "# Output: 3\n",
        "test_series = pd.Series([10, 7, 3, 15, 17])\n",
        "\n",
        "# Find prime numbers in the Series\n",
        "prime_numbers = test_series[test_series.apply(is_prime)]\n",
        "\n",
        "# Get the count of prime numbers\n",
        "prime_count = len(prime_numbers)\n",
        "\n",
        "print(\"Input Series:\")\n",
        "print(test_series)\n",
        "print(\"\\nPrime numbers found:\")\n",
        "print(prime_numbers)\n",
        "print(f\"\\nOutput: {prime_count}\")"
      ],
      "metadata": {
        "id": "FUw-wNJOtrOO"
      },
      "execution_count": null,
      "outputs": []
    }
  ]
}
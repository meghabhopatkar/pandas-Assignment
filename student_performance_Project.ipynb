{
  "nbformat": 4,
  "nbformat_minor": 0,
  "metadata": {
    "colab": {
      "private_outputs": true,
      "provenance": [],
      "authorship_tag": "ABX9TyMI+kBEKQu7esZyUirhwVTw",
      "include_colab_link": true
    },
    "kernelspec": {
      "name": "python3",
      "display_name": "Python 3"
    },
    "language_info": {
      "name": "python"
    }
  },
  "cells": [
    {
      "cell_type": "markdown",
      "metadata": {
        "id": "view-in-github",
        "colab_type": "text"
      },
      "source": [
        "<a href=\"https://colab.research.google.com/github/meghabhopatkar/pandas-Assignment/blob/main/student_performance_Project.ipynb\" target=\"_parent\"><img src=\"https://colab.research.google.com/assets/colab-badge.svg\" alt=\"Open In Colab\"/></a>"
      ]
    },
    {
      "cell_type": "code",
      "execution_count": null,
      "metadata": {
        "id": "q_v6M3jlCDKK"
      },
      "outputs": [],
      "source": [
        "import pandas as pd\n",
        "import numpy as np"
      ]
    },
    {
      "cell_type": "code",
      "source": [
        "data1= pd.read_csv('/content/StudentsPerformance.csv')"
      ],
      "metadata": {
        "id": "2gAoBAlaCdcB"
      },
      "execution_count": null,
      "outputs": []
    },
    {
      "cell_type": "code",
      "source": [
        "data1.head()"
      ],
      "metadata": {
        "id": "7FsdfXr9CmqJ"
      },
      "execution_count": null,
      "outputs": []
    },
    {
      "cell_type": "code",
      "source": [
        "data1.info()"
      ],
      "metadata": {
        "id": "epLZCUKXDM5l"
      },
      "execution_count": null,
      "outputs": []
    },
    {
      "cell_type": "code",
      "source": [
        "data1.rename(columns={'race/ethnicity':'groups'},inplace=True)"
      ],
      "metadata": {
        "id": "auNG8WxYDP4-"
      },
      "execution_count": null,
      "outputs": []
    },
    {
      "cell_type": "code",
      "source": [
        "type(data1['groups'])"
      ],
      "metadata": {
        "id": "gdJlaDonEFy6"
      },
      "execution_count": null,
      "outputs": []
    },
    {
      "cell_type": "code",
      "source": [
        "for group,grouped_data in data1.groupby('groups'):\n",
        "  print(group)\n",
        "  print(grouped_data.head(3))"
      ],
      "metadata": {
        "id": "pNUbJ_HqEPzg"
      },
      "execution_count": null,
      "outputs": []
    },
    {
      "cell_type": "markdown",
      "source": [
        "GET GROUP TO ACESS THE SINGLE GROUP"
      ],
      "metadata": {
        "id": "p79LlYfVFL-8"
      }
    },
    {
      "cell_type": "code",
      "source": [
        "data1.groupby('groups').get_group('group A')"
      ],
      "metadata": {
        "id": "PCy_A4NLFCx5"
      },
      "execution_count": null,
      "outputs": []
    },
    {
      "cell_type": "markdown",
      "source": [
        "numeric_onlt can call only number"
      ],
      "metadata": {
        "id": "yoL_K2LnF7dE"
      }
    },
    {
      "cell_type": "code",
      "source": [
        "for group, grouped_data in data1.groupby('groups'):\n",
        "  print(f'Group: {group}')\n",
        "  print(grouped_data.sum(numeric_only=True))"
      ],
      "metadata": {
        "id": "G2OMynvYFS6v"
      },
      "execution_count": null,
      "outputs": []
    },
    {
      "cell_type": "code",
      "source": [
        "for group, grouped_data in data1.groupby('groups'):\n",
        "  print(f'Group: {group}')\n",
        "  print(grouped_data.sum(numeric_only=True))"
      ],
      "metadata": {
        "id": "GjcHnr5lGDdE"
      },
      "execution_count": null,
      "outputs": []
    },
    {
      "cell_type": "code",
      "source": [
        "for group, grouped_data in data1.groupby('groups'):\n",
        "  # Corrected the assignment and print statement\n",
        "  # If you intended to create a dictionary, you can do so outside the loop:\n",
        "  # group_map = {'all group': 'A,B,C,D'}\n",
        "  # print(f'Group: {group_map.get(group, group)}') # Example using the dictionary\n",
        "  print(f'Group: {\"A ONLY\" if group == \"group A\" else group}')\n",
        "  print(f'Group: {\"B ONLY\" if group == \"group B\" else group}')\n",
        "  print(f'Group: {\"C ONLY\" if group == \"group C\" else group}')\n",
        "  print(f'Group: {\"D ONLY\" if group == \"group D\" else group}')\n",
        "  print(f'Group: {\"E ONLY\" if group == \"group E\" else group}')"
      ],
      "metadata": {
        "id": "Gu67S182GeN3"
      },
      "execution_count": null,
      "outputs": []
    },
    {
      "cell_type": "markdown",
      "source": [
        "student name with count which has the twice a"
      ],
      "metadata": {
        "id": "vAL2zLUrMcDR"
      }
    },
    {
      "cell_type": "code",
      "metadata": {
        "id": "9d4f15e4"
      },
      "source": [
        "# Filter the DataFrame where the count of 'a' in the 'groups' column is exactly 2\n",
        "filtered_data_twice_a = data1[data1['groups'].str.count('a') == 2]\n",
        "\n",
        "# Display the count of these rows\n",
        "print(f\"Number of entries with 'a' twice in the 'groups' column: {len(filtered_data_twice_a)}\")\n",
        "\n",
        "# Optionally, display the filtered data itself\n",
        "# display(filtered_data_twice_a)"
      ],
      "execution_count": null,
      "outputs": []
    },
    {
      "cell_type": "markdown",
      "source": [
        "find the parential level of education which has highest             \n",
        "total in reading score"
      ],
      "metadata": {
        "id": "CyeEXiOCO4Rq"
      }
    },
    {
      "cell_type": "code",
      "source": [
        "#find the parential level of education which has highest\n",
        "#total in reading score\n",
        "gp = data1.groupby('parental level of education')['reading score'].sum().sort_values(ascending=False).head(1)\n",
        "display(gp)"
      ],
      "metadata": {
        "id": "G9Qp0p-aO2Pe"
      },
      "execution_count": null,
      "outputs": []
    },
    {
      "cell_type": "markdown",
      "source": [
        "highest maths score"
      ],
      "metadata": {
        "id": "7NSdzbk5QjNk"
      }
    },
    {
      "cell_type": "code",
      "source": [],
      "metadata": {
        "id": "4GHXVLf8Qlsu"
      },
      "execution_count": null,
      "outputs": []
    },
    {
      "cell_type": "code",
      "source": [
        "for group,data in groups: # This way can be used to print that group data.. because it stores similiar as dictionary.\n",
        "    print(group)\n",
        "    print(data)"
      ],
      "metadata": {
        "id": "Tsz9xLHLjGRv"
      },
      "execution_count": null,
      "outputs": []
    },
    {
      "cell_type": "code",
      "source": [
        "#ngroups()\n",
        "detail_group = data1.goupby('groups').ngroups\n",
        "display(group)"
      ],
      "metadata": {
        "id": "6DBeAwXwb4oi"
      },
      "execution_count": null,
      "outputs": []
    },
    {
      "cell_type": "code",
      "source": [
        "#ngroups()\n",
        "detail_group = data1.groupby('parental level of education').ngroups\n",
        "display(detail_group)"
      ],
      "metadata": {
        "id": "_RySx9x1crPr"
      },
      "execution_count": null,
      "outputs": []
    },
    {
      "cell_type": "code",
      "source": [
        "#indices\n",
        "gender_groups = data1.groupby('gender')\n",
        "display(gender_groups.indices)"
      ],
      "metadata": {
        "id": "S4Q2HRK7dStH"
      },
      "execution_count": null,
      "outputs": []
    },
    {
      "cell_type": "code",
      "source": [
        "#nuniquce\n",
        "groups_nuniquce = data1.groupby('nuniquce')\n",
        "groups.nuniquce()"
      ],
      "metadata": {
        "id": "K_LO33BAdqrw"
      },
      "execution_count": null,
      "outputs": []
    },
    {
      "cell_type": "code",
      "source": [
        "#count\n"
      ],
      "metadata": {
        "id": "1UhGAHlweyyz"
      },
      "execution_count": null,
      "outputs": []
    }
  ]
}
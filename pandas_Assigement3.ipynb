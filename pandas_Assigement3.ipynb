{
  "nbformat": 4,
  "nbformat_minor": 0,
  "metadata": {
    "colab": {
      "private_outputs": true,
      "provenance": [],
      "authorship_tag": "ABX9TyMhzUsDElafy4jSrln1rXkB",
      "include_colab_link": true
    },
    "kernelspec": {
      "name": "python3",
      "display_name": "Python 3"
    },
    "language_info": {
      "name": "python"
    }
  },
  "cells": [
    {
      "cell_type": "markdown",
      "metadata": {
        "id": "view-in-github",
        "colab_type": "text"
      },
      "source": [
        "<a href=\"https://colab.research.google.com/github/meghabhopatkar/pandas-Assignment/blob/main/pandas_Assigement3.ipynb\" target=\"_parent\"><img src=\"https://colab.research.google.com/assets/colab-badge.svg\" alt=\"Open In Colab\"/></a>"
      ]
    },
    {
      "cell_type": "code",
      "execution_count": null,
      "metadata": {
        "id": "EPrC_zoh7m2h"
      },
      "outputs": [],
      "source": [
        "import kagglehub\n",
        "\n",
        "# Download latest version\n",
        "path = kagglehub.dataset_download(\"brendan45774/test-file\")\n",
        "\n",
        "print(\"Path to dataset files:\", path)"
      ]
    },
    {
      "cell_type": "markdown",
      "source": [
        "Display the names of all passengers who paid a fare greater than\n",
        "$100 and were under the age of 30.\n"
      ],
      "metadata": {
        "id": "PDIAqZid8nkB"
      }
    },
    {
      "cell_type": "code",
      "source": [
        "import pandas as pd\n",
        "data = pd.read_csv('/content/archive (1).zip')"
      ],
      "metadata": {
        "id": "CbVPcAjr8d1m"
      },
      "execution_count": null,
      "outputs": []
    },
    {
      "cell_type": "code",
      "source": [
        "data.head()"
      ],
      "metadata": {
        "id": "eCxtz2rW-5j6"
      },
      "execution_count": null,
      "outputs": []
    },
    {
      "cell_type": "code",
      "source": [
        "data[(data.Fare >= 100) & (data.Age < 30)]"
      ],
      "metadata": {
        "id": "x0kJx5WR-8A1"
      },
      "execution_count": null,
      "outputs": []
    },
    {
      "cell_type": "markdown",
      "source": [
        "Find the top 5 oldest passengers. What are their names, ages, and\n",
        "whether they survived?"
      ],
      "metadata": {
        "id": "h-I3ekDhADSL"
      }
    },
    {
      "cell_type": "code",
      "source": [
        "# Sort the DataFrame by 'Age' in descending order and select the top 5\n",
        "oldest_passengers = data.sort_values(by='Age', ascending=False).head(5)\n",
        "\n",
        "# Display the 'Name', 'Age', and 'Survived' columns\n",
        "display(oldest_passengers[['Name', 'Age', 'Survived']])"
      ],
      "metadata": {
        "id": "low3IYnj_GRZ"
      },
      "execution_count": null,
      "outputs": []
    },
    {
      "cell_type": "markdown",
      "source": [
        "Count how many passengers have a missing value for their cabin\n",
        "number (Cabin)"
      ],
      "metadata": {
        "id": "9KnEKvVOAijI"
      }
    },
    {
      "cell_type": "code",
      "source": [
        "# Count how many passengers have a missing value for their cabin number (Cabin)\n",
        "missing_cabin_count = data['Cabin'].isnull().sum()\n",
        "\n",
        "# Display the count\n",
        "print(f\"Number of passengers with missing cabin information: {missing_cabin_count}\")"
      ],
      "metadata": {
        "id": "WD3CvZlNAjI6"
      },
      "execution_count": null,
      "outputs": []
    },
    {
      "cell_type": "markdown",
      "source": [
        "Extract and create a new column called 'Title' from the 'Name'\n",
        "column (e.g., Mr., Mrs., Miss, etc.). After creating the column,\n",
        "display the first 5 unique titles."
      ],
      "metadata": {
        "id": "y2EnGmxOCM51"
      }
    },
    {
      "cell_type": "code",
      "metadata": {
        "id": "b34472e6"
      },
      "source": [
        "# Extract title from 'Name' column using a regular expression\n",
        "data['Title'] = data['Name'].str.extract(' ([A-Za-z]+)\\.', expand=False)\n",
        "\n",
        "# Get unique titles and display the first 5\n",
        "unique_titles = data['Title'].unique()\n",
        "print(\"First 5 unique titles:\")\n",
        "for title in unique_titles[:5]:\n",
        "    print(title)"
      ],
      "execution_count": null,
      "outputs": []
    },
    {
      "cell_type": "markdown",
      "source": [
        "Sort the dataset based on fare in descending order and display the\n",
        "top 10 passengers with the highest fares"
      ],
      "metadata": {
        "id": "_UhodpqiGevp"
      }
    },
    {
      "cell_type": "code",
      "source": [
        "# fare decrending order\n",
        "#display the top 10 passengers with the highest fares\n",
        "data['Fare'] = data['Fare'].astype\n",
        "print(\"top 10 passengers with highest fares\")\n",
        "display('10>highest fares')"
      ],
      "metadata": {
        "id": "fy3DYJZECN0G"
      },
      "execution_count": null,
      "outputs": []
    },
    {
      "cell_type": "markdown",
      "source": [
        "find the name of the youngest passenger who did not survive"
      ],
      "metadata": {
        "id": "V6H0o17YHkuI"
      }
    },
    {
      "cell_type": "code",
      "source": [
        "# Filter for passengers who did not survive\n",
        "did_not_survive = data[data['Survived'] == 0]\n",
        "\n",
        "# Sort by age in ascending order to find the youngest\n",
        "youngest_did_not_survive = did_not_survive.sort_values(by='Age').head(1)\n",
        "\n",
        "# Display the name of the youngest passenger who did not survive\n",
        "if not youngest_did_not_survive.empty:\n",
        "    print(\"Name of the youngest passenger who did not survive:\")\n",
        "    display(youngest_did_not_survive['Name'].iloc[0])\n",
        "else:\n",
        "    print(\"No passengers who did not survive found in the data.\")"
      ],
      "metadata": {
        "id": "lsX-dMn8Hhlo"
      },
      "execution_count": null,
      "outputs": []
    },
    {
      "cell_type": "markdown",
      "source": [
        "Display the first 5 rows where the passenger's name starts with\n",
        "the letter 'A'"
      ],
      "metadata": {
        "id": "vmAdsfQmIsA5"
      }
    },
    {
      "cell_type": "code",
      "source": [
        "# Filter for passengers whose name starts with the letter 'A'\n",
        "passengers_starting_with_A = data[data['Name'].str.startswith('A')]\n",
        "\n",
        "# Display the first 5 rows of the filtered data\n",
        "print(\"First 5 rows where the passenger's name starts with 'A':\")\n",
        "display(passengers_starting_with_A.head())"
      ],
      "metadata": {
        "id": "MKsP14yaIsqv"
      },
      "execution_count": null,
      "outputs": []
    },
    {
      "cell_type": "markdown",
      "source": [
        "Create a new column called ‘FamilySize’, which is the sum of\n",
        "'SibSp' and 'Parch'. Then, display the first 10 rows where the\n",
        "family size is greater than 3."
      ],
      "metadata": {
        "id": "c-8aiYaqJmNQ"
      }
    },
    {
      "cell_type": "code",
      "source": [
        "# Create a new column 'FamilySize'\n",
        "data['FamilySize'] = data['SibSp'] + data['Parch']\n",
        "\n",
        "# Filter for rows where FamilySize is greater than 3 and display the first 10\n",
        "family_size_greater_than_3 = data[data['FamilySize'] > 3]\n",
        "print(\"First 10 rows where FamilySize is greater than 3:\")\n",
        "display(family_size_greater_than_3.head(10))"
      ],
      "metadata": {
        "id": "d675WBDiJmxd"
      },
      "execution_count": null,
      "outputs": []
    },
    {
      "cell_type": "markdown",
      "source": [
        "Create a new column ‘FarePerPerson’ by dividing the 'Fare' by\n",
        "the sum of 'SibSp' + 'Parch' + 1 (to account for the passenger\n",
        "themselves). Then, find the highest ‘FarePerPerson’ and display\n",
        "the name and 0fare of that passenger."
      ],
      "metadata": {
        "id": "J4WysmRMJx6r"
      }
    },
    {
      "cell_type": "code",
      "source": [
        "# Ensure 'Fare' is numeric, coercing errors to NaN\n",
        "data['Fare'] = pd.to_numeric(data['Fare'], errors='coerce')\n",
        "\n",
        "# Create the 'FarePerPerson' column\n",
        "data['FarePerPerson'] = data['Fare'] / (data['SibSp'] + data['Parch'] + 1)\n",
        "\n",
        "# Find the row with the highest 'FarePerPerson'\n",
        "highest_fare_per_person_passenger = data.loc[data['FarePerPerson'].idxmax()]\n",
        "\n",
        "# Display the name and fare of that passenger\n",
        "print(\"Passenger with the highest 'FarePerPerson':\")\n",
        "display(highest_fare_per_person_passenger[['Name', 'Fare']])"
      ],
      "metadata": {
        "id": "6ebeoUapJz4I"
      },
      "execution_count": null,
      "outputs": []
    },
    {
      "cell_type": "markdown",
      "source": [],
      "metadata": {
        "id": "axwsrz-wEZUG"
      }
    },
    {
      "cell_type": "code",
      "source": [],
      "metadata": {
        "id": "Wli-rmvMEZBC"
      },
      "execution_count": null,
      "outputs": []
    }
  ]
}
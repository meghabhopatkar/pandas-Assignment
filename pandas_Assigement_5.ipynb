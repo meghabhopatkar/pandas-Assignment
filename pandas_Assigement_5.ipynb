{
  "nbformat": 4,
  "nbformat_minor": 0,
  "metadata": {
    "colab": {
      "private_outputs": true,
      "provenance": [],
      "authorship_tag": "ABX9TyNlR2Z4MDHTc32MQkaK678c",
      "include_colab_link": true
    },
    "kernelspec": {
      "name": "python3",
      "display_name": "Python 3"
    },
    "language_info": {
      "name": "python"
    }
  },
  "cells": [
    {
      "cell_type": "markdown",
      "metadata": {
        "id": "view-in-github",
        "colab_type": "text"
      },
      "source": [
        "<a href=\"https://colab.research.google.com/github/meghabhopatkar/pandas-Assignment/blob/main/pandas_Assigement_5.ipynb\" target=\"_parent\"><img src=\"https://colab.research.google.com/assets/colab-badge.svg\" alt=\"Open In Colab\"/></a>"
      ]
    },
    {
      "cell_type": "code",
      "execution_count": null,
      "metadata": {
        "id": "J3X7oIEwTLCV"
      },
      "outputs": [],
      "source": [
        "import kagglehub\n",
        "\n",
        "# Download latest version\n",
        "path = kagglehub.dataset_download(\"yasserh/housing-prices-dataset\")\n",
        "\n",
        "print(\"Path to dataset files:\", path)"
      ]
    },
    {
      "cell_type": "markdown",
      "source": [
        "What is the average price of houses based on the number of\n",
        "bedrooms they have?"
      ],
      "metadata": {
        "id": "XyDPTVogOKhA"
      }
    },
    {
      "cell_type": "code",
      "source": [
        "import pandas as pd\n",
        "average_price_df = pd.read_csv(\"/content/Housing (1).csv\")\n",
        "average_price_df.head()"
      ],
      "metadata": {
        "id": "2hQycdNhOLJ7"
      },
      "execution_count": null,
      "outputs": []
    },
    {
      "cell_type": "markdown",
      "source": [
        "Count the number of houses that are furnished in the given\n",
        "dataset"
      ],
      "metadata": {
        "id": "tTa4OTq5PPRv"
      }
    },
    {
      "cell_type": "code",
      "source": [
        "import pandas as pd\n",
        "furnished_df = pd.read_csv(\"/content/Housing (1).csv\")\n",
        "furnished_df.head()"
      ],
      "metadata": {
        "id": "67pvWo3iPP--"
      },
      "execution_count": null,
      "outputs": []
    },
    {
      "cell_type": "markdown",
      "source": [
        "Calculate the percentage of houses in the dataset have air\n",
        "conditioning"
      ],
      "metadata": {
        "id": "pCdGeIXdP0Xb"
      }
    },
    {
      "cell_type": "code",
      "source": [
        "import pandas as pd\n",
        "conditioning_df = pd.read_csv(\"/content/Housing (1).csv\")\n",
        "conditioning_df.head()"
      ],
      "metadata": {
        "id": "YKYeMAhVP0_D"
      },
      "execution_count": null,
      "outputs": []
    },
    {
      "cell_type": "markdown",
      "source": [
        "Create a new column called 'PricePerSqFt' that calculates the\n",
        "price per square foot of each house."
      ],
      "metadata": {
        "id": "cic92LkXQPYS"
      }
    },
    {
      "cell_type": "code",
      "source": [
        "average_price_df[\"pricePerSqFt\"] = average_price_df[\"price\"]/average_price_df['area']\n",
        "display =(average_price_df.head(5))"
      ],
      "metadata": {
        "id": "S_WUjmcxQQR1"
      },
      "execution_count": null,
      "outputs": []
    },
    {
      "cell_type": "markdown",
      "source": [
        "What is the minimum, maximum, and average area (square feet)\n",
        "of houses with more than or equal to 2 bathrooms. Also print the\n",
        "minimum, maximum, and average area for each bathrooms no.."
      ],
      "metadata": {
        "id": "5BId8rQHRTWy"
      }
    },
    {
      "cell_type": "code",
      "source": [],
      "metadata": {
        "id": "OlCBD9U3RUH_"
      },
      "execution_count": null,
      "outputs": []
    },
    {
      "cell_type": "markdown",
      "source": [
        "Identify houses that have a price above $50,00,000 but with an\n",
        "area (in square feet) below 4000. List the top 10 results by price in\n",
        "descending order."
      ],
      "metadata": {
        "id": "9IiSE7H-SfJM"
      }
    },
    {
      "cell_type": "code",
      "source": [],
      "metadata": {
        "id": "-rxClxowSgCn"
      },
      "execution_count": null,
      "outputs": []
    },
    {
      "cell_type": "markdown",
      "source": [
        "Find the top 5 most expensive unfurnished houses. Display their\n",
        "price, area, stories and PricePerSqFt."
      ],
      "metadata": {
        "id": "jz3jGB2JV7Ig"
      }
    },
    {
      "cell_type": "code",
      "source": [],
      "metadata": {
        "id": "pZvGVbcNV_jw"
      },
      "execution_count": null,
      "outputs": []
    },
    {
      "cell_type": "markdown",
      "source": [
        "Display houses with more than 3 bedrooms but an area of less\n",
        "than 3000 square feet. List the top 5 results by price"
      ],
      "metadata": {
        "id": "lspvIn1NX6Xl"
      }
    },
    {
      "cell_type": "code",
      "source": [],
      "metadata": {
        "id": "PdaA4SrnX7Es"
      },
      "execution_count": null,
      "outputs": []
    },
    {
      "cell_type": "markdown",
      "source": [
        "For each unique number of bedrooms, calculate the minimum,\n",
        "maximum, and average price per square foot ('PricePerSqFt') of\n",
        "houses with that number of bedrooms. Sort the results by the\n",
        "number of bedrooms in ascending order"
      ],
      "metadata": {
        "id": "uzS7DCQcX-lJ"
      }
    },
    {
      "cell_type": "code",
      "source": [],
      "metadata": {
        "id": "ghaL4qjNX_WI"
      },
      "execution_count": null,
      "outputs": []
    },
    {
      "cell_type": "markdown",
      "source": [
        "(Unique Complex Mapping) Create a new column named\n",
        "'CostEfficiency' by dividing the 'Price' by the square of 'Area'. Identify\n",
        "the house with the lowest 'CostEfficiency' and display its price, area,\n",
        "and location."
      ],
      "metadata": {
        "id": "by_ql8QyYCN-"
      }
    },
    {
      "cell_type": "code",
      "source": [],
      "metadata": {
        "id": "kj_m5RSyYC4s"
      },
      "execution_count": null,
      "outputs": []
    }
  ]
}